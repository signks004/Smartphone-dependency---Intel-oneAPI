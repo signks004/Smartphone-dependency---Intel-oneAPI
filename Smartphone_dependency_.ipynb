{
  "nbformat": 4,
  "nbformat_minor": 0,
  "metadata": {
    "colab": {
      "provenance": []
    },
    "kernelspec": {
      "name": "python3",
      "display_name": "Python 3"
    },
    "language_info": {
      "name": "python"
    }
  },
  "cells": [
    {
      "cell_type": "markdown",
      "source": [
        "**Implementation of research codes**\n",
        "\n",
        "\n",
        "\n"
      ],
      "metadata": {
        "id": "swvsuZsmXR4n"
      }
    },
    {
      "cell_type": "code",
      "source": [
        "import pandas as pd\n",
        "import numpy as np\n",
        "import matplotlib.pyplot as plt\n",
        "import seaborn as sns\n",
        "from sklearn.model_selection import train_test_split"
      ],
      "metadata": {
        "id": "TFu7l0_jXcmJ"
      },
      "execution_count": null,
      "outputs": []
    },
    {
      "cell_type": "code",
      "source": [
        "from google.colab import drive\n",
        "drive.mount('/content/drive')"
      ],
      "metadata": {
        "id": "mMBMw4geIhR5",
        "colab": {
          "base_uri": "https://localhost:8080/"
        },
        "outputId": "7377f7bf-7cd1-482f-8d81-3ca2dc01811c"
      },
      "execution_count": null,
      "outputs": [
        {
          "output_type": "stream",
          "name": "stdout",
          "text": [
            "Drive already mounted at /content/drive; to attempt to forcibly remount, call drive.mount(\"/content/drive\", force_remount=True).\n"
          ]
        }
      ]
    },
    {
      "cell_type": "code",
      "source": [
        "dep=pd.read_csv(\"/content/drive/MyDrive/prodata.csv\")"
      ],
      "metadata": {
        "id": "KZEr_3qaIyUq"
      },
      "execution_count": null,
      "outputs": []
    },
    {
      "cell_type": "code",
      "source": [
        "dep.dtypes"
      ],
      "metadata": {
        "colab": {
          "base_uri": "https://localhost:8080/"
        },
        "id": "lK2HNI6jbcUZ",
        "outputId": "9d210a35-8797-474d-ca43-9afa0bd986be"
      },
      "execution_count": null,
      "outputs": [
        {
          "output_type": "execute_result",
          "data": {
            "text/plain": [
              "Name                                                                                int64\n",
              "Age                                                                                 int64\n",
              "Gender                                                                              int64\n",
              "Overall usage of smartphones (in hours)                                             int64\n",
              "Time since you acquired your first phone?                                           int64\n",
              "Do you feel anxious when you  dont have your smartphones.                           int64\n",
              "Arguments for using smartphone for long time                                        int64\n",
              "Can you live without phone?                                                         int64\n",
              "Are you addicted to smartphone?                                                     int64\n",
              "Do you use your smartphone while driving                                            int64\n",
              "Do you spend time on physical activities?                                           int64\n",
              "Do you plug your cell phone into the wall next to your bed when you go to sleep?    int64\n",
              "Do you use your cell phone while its charging?                                      int64\n",
              "dtype: object"
            ]
          },
          "metadata": {},
          "execution_count": 81
        }
      ]
    },
    {
      "cell_type": "code",
      "source": [
        "dep.describe()"
      ],
      "metadata": {
        "colab": {
          "base_uri": "https://localhost:8080/",
          "height": 520
        },
        "id": "GhzaIYSIbe7A",
        "outputId": "3f0505b3-1374-46c0-83af-b2ccbc493dbd"
      },
      "execution_count": null,
      "outputs": [
        {
          "output_type": "execute_result",
          "data": {
            "text/plain": [
              "             Name         Age      Gender  \\\n",
              "count  451.000000  451.000000  451.000000   \n",
              "mean   226.000000   26.403548    0.583149   \n",
              "std    130.336743   12.775720    0.493585   \n",
              "min      1.000000    7.000000    0.000000   \n",
              "25%    113.500000   20.000000    0.000000   \n",
              "50%    226.000000   22.000000    1.000000   \n",
              "75%    338.500000   27.000000    1.000000   \n",
              "max    451.000000   83.000000    1.000000   \n",
              "\n",
              "       Overall usage of smartphones (in hours)  \\\n",
              "count                               451.000000   \n",
              "mean                                  5.159645   \n",
              "std                                   2.999446   \n",
              "min                                   1.000000   \n",
              "25%                                   3.000000   \n",
              "50%                                   4.000000   \n",
              "75%                                   6.000000   \n",
              "max                                  18.000000   \n",
              "\n",
              "       Time since you acquired your first phone?  \\\n",
              "count                                 451.000000   \n",
              "mean                                    2.310421   \n",
              "std                                     1.242346   \n",
              "min                                     1.000000   \n",
              "25%                                     1.000000   \n",
              "50%                                     2.000000   \n",
              "75%                                     3.000000   \n",
              "max                                     5.000000   \n",
              "\n",
              "       Do you feel anxious when you  dont have your smartphones.  \\\n",
              "count                                         451.000000           \n",
              "mean                                            0.616408           \n",
              "std                                             0.486800           \n",
              "min                                             0.000000           \n",
              "25%                                             0.000000           \n",
              "50%                                             1.000000           \n",
              "75%                                             1.000000           \n",
              "max                                             1.000000           \n",
              "\n",
              "       Arguments for using smartphone for long time  \\\n",
              "count                                    451.000000   \n",
              "mean                                       1.694013   \n",
              "std                                        0.717672   \n",
              "min                                        1.000000   \n",
              "25%                                        1.000000   \n",
              "50%                                        2.000000   \n",
              "75%                                        2.000000   \n",
              "max                                        4.000000   \n",
              "\n",
              "       Can you live without phone?  Are you addicted to smartphone?  \\\n",
              "count                   451.000000                       451.000000   \n",
              "mean                      0.984479                         0.736142   \n",
              "std                       0.895534                         0.441213   \n",
              "min                       0.000000                         0.000000   \n",
              "25%                       0.000000                         0.000000   \n",
              "50%                       1.000000                         1.000000   \n",
              "75%                       2.000000                         1.000000   \n",
              "max                       2.000000                         1.000000   \n",
              "\n",
              "       Do you use your smartphone while driving   \\\n",
              "count                                 451.000000   \n",
              "mean                                    0.880266   \n",
              "std                                     0.325011   \n",
              "min                                     0.000000   \n",
              "25%                                     1.000000   \n",
              "50%                                     1.000000   \n",
              "75%                                     1.000000   \n",
              "max                                     1.000000   \n",
              "\n",
              "       Do you spend time on physical activities?  \\\n",
              "count                                 451.000000   \n",
              "mean                                    0.345898   \n",
              "std                                     0.476188   \n",
              "min                                     0.000000   \n",
              "25%                                     0.000000   \n",
              "50%                                     0.000000   \n",
              "75%                                     1.000000   \n",
              "max                                     1.000000   \n",
              "\n",
              "       Do you plug your cell phone into the wall next to your bed when you go to sleep?  \\\n",
              "count                                         451.000000                                  \n",
              "mean                                            0.662971                                  \n",
              "std                                             0.473220                                  \n",
              "min                                             0.000000                                  \n",
              "25%                                             0.000000                                  \n",
              "50%                                             1.000000                                  \n",
              "75%                                             1.000000                                  \n",
              "max                                             1.000000                                  \n",
              "\n",
              "       Do you use your cell phone while its charging?  \n",
              "count                                      451.000000  \n",
              "mean                                         0.671840  \n",
              "std                                          0.470065  \n",
              "min                                          0.000000  \n",
              "25%                                          0.000000  \n",
              "50%                                          1.000000  \n",
              "75%                                          1.000000  \n",
              "max                                          1.000000  "
            ],
            "text/html": [
              "\n",
              "  <div id=\"df-bdf06928-3d19-4073-8ecf-fd4d743e8680\">\n",
              "    <div class=\"colab-df-container\">\n",
              "      <div>\n",
              "<style scoped>\n",
              "    .dataframe tbody tr th:only-of-type {\n",
              "        vertical-align: middle;\n",
              "    }\n",
              "\n",
              "    .dataframe tbody tr th {\n",
              "        vertical-align: top;\n",
              "    }\n",
              "\n",
              "    .dataframe thead th {\n",
              "        text-align: right;\n",
              "    }\n",
              "</style>\n",
              "<table border=\"1\" class=\"dataframe\">\n",
              "  <thead>\n",
              "    <tr style=\"text-align: right;\">\n",
              "      <th></th>\n",
              "      <th>Name</th>\n",
              "      <th>Age</th>\n",
              "      <th>Gender</th>\n",
              "      <th>Overall usage of smartphones (in hours)</th>\n",
              "      <th>Time since you acquired your first phone?</th>\n",
              "      <th>Do you feel anxious when you  dont have your smartphones.</th>\n",
              "      <th>Arguments for using smartphone for long time</th>\n",
              "      <th>Can you live without phone?</th>\n",
              "      <th>Are you addicted to smartphone?</th>\n",
              "      <th>Do you use your smartphone while driving</th>\n",
              "      <th>Do you spend time on physical activities?</th>\n",
              "      <th>Do you plug your cell phone into the wall next to your bed when you go to sleep?</th>\n",
              "      <th>Do you use your cell phone while its charging?</th>\n",
              "    </tr>\n",
              "  </thead>\n",
              "  <tbody>\n",
              "    <tr>\n",
              "      <th>count</th>\n",
              "      <td>451.000000</td>\n",
              "      <td>451.000000</td>\n",
              "      <td>451.000000</td>\n",
              "      <td>451.000000</td>\n",
              "      <td>451.000000</td>\n",
              "      <td>451.000000</td>\n",
              "      <td>451.000000</td>\n",
              "      <td>451.000000</td>\n",
              "      <td>451.000000</td>\n",
              "      <td>451.000000</td>\n",
              "      <td>451.000000</td>\n",
              "      <td>451.000000</td>\n",
              "      <td>451.000000</td>\n",
              "    </tr>\n",
              "    <tr>\n",
              "      <th>mean</th>\n",
              "      <td>226.000000</td>\n",
              "      <td>26.403548</td>\n",
              "      <td>0.583149</td>\n",
              "      <td>5.159645</td>\n",
              "      <td>2.310421</td>\n",
              "      <td>0.616408</td>\n",
              "      <td>1.694013</td>\n",
              "      <td>0.984479</td>\n",
              "      <td>0.736142</td>\n",
              "      <td>0.880266</td>\n",
              "      <td>0.345898</td>\n",
              "      <td>0.662971</td>\n",
              "      <td>0.671840</td>\n",
              "    </tr>\n",
              "    <tr>\n",
              "      <th>std</th>\n",
              "      <td>130.336743</td>\n",
              "      <td>12.775720</td>\n",
              "      <td>0.493585</td>\n",
              "      <td>2.999446</td>\n",
              "      <td>1.242346</td>\n",
              "      <td>0.486800</td>\n",
              "      <td>0.717672</td>\n",
              "      <td>0.895534</td>\n",
              "      <td>0.441213</td>\n",
              "      <td>0.325011</td>\n",
              "      <td>0.476188</td>\n",
              "      <td>0.473220</td>\n",
              "      <td>0.470065</td>\n",
              "    </tr>\n",
              "    <tr>\n",
              "      <th>min</th>\n",
              "      <td>1.000000</td>\n",
              "      <td>7.000000</td>\n",
              "      <td>0.000000</td>\n",
              "      <td>1.000000</td>\n",
              "      <td>1.000000</td>\n",
              "      <td>0.000000</td>\n",
              "      <td>1.000000</td>\n",
              "      <td>0.000000</td>\n",
              "      <td>0.000000</td>\n",
              "      <td>0.000000</td>\n",
              "      <td>0.000000</td>\n",
              "      <td>0.000000</td>\n",
              "      <td>0.000000</td>\n",
              "    </tr>\n",
              "    <tr>\n",
              "      <th>25%</th>\n",
              "      <td>113.500000</td>\n",
              "      <td>20.000000</td>\n",
              "      <td>0.000000</td>\n",
              "      <td>3.000000</td>\n",
              "      <td>1.000000</td>\n",
              "      <td>0.000000</td>\n",
              "      <td>1.000000</td>\n",
              "      <td>0.000000</td>\n",
              "      <td>0.000000</td>\n",
              "      <td>1.000000</td>\n",
              "      <td>0.000000</td>\n",
              "      <td>0.000000</td>\n",
              "      <td>0.000000</td>\n",
              "    </tr>\n",
              "    <tr>\n",
              "      <th>50%</th>\n",
              "      <td>226.000000</td>\n",
              "      <td>22.000000</td>\n",
              "      <td>1.000000</td>\n",
              "      <td>4.000000</td>\n",
              "      <td>2.000000</td>\n",
              "      <td>1.000000</td>\n",
              "      <td>2.000000</td>\n",
              "      <td>1.000000</td>\n",
              "      <td>1.000000</td>\n",
              "      <td>1.000000</td>\n",
              "      <td>0.000000</td>\n",
              "      <td>1.000000</td>\n",
              "      <td>1.000000</td>\n",
              "    </tr>\n",
              "    <tr>\n",
              "      <th>75%</th>\n",
              "      <td>338.500000</td>\n",
              "      <td>27.000000</td>\n",
              "      <td>1.000000</td>\n",
              "      <td>6.000000</td>\n",
              "      <td>3.000000</td>\n",
              "      <td>1.000000</td>\n",
              "      <td>2.000000</td>\n",
              "      <td>2.000000</td>\n",
              "      <td>1.000000</td>\n",
              "      <td>1.000000</td>\n",
              "      <td>1.000000</td>\n",
              "      <td>1.000000</td>\n",
              "      <td>1.000000</td>\n",
              "    </tr>\n",
              "    <tr>\n",
              "      <th>max</th>\n",
              "      <td>451.000000</td>\n",
              "      <td>83.000000</td>\n",
              "      <td>1.000000</td>\n",
              "      <td>18.000000</td>\n",
              "      <td>5.000000</td>\n",
              "      <td>1.000000</td>\n",
              "      <td>4.000000</td>\n",
              "      <td>2.000000</td>\n",
              "      <td>1.000000</td>\n",
              "      <td>1.000000</td>\n",
              "      <td>1.000000</td>\n",
              "      <td>1.000000</td>\n",
              "      <td>1.000000</td>\n",
              "    </tr>\n",
              "  </tbody>\n",
              "</table>\n",
              "</div>\n",
              "      <button class=\"colab-df-convert\" onclick=\"convertToInteractive('df-bdf06928-3d19-4073-8ecf-fd4d743e8680')\"\n",
              "              title=\"Convert this dataframe to an interactive table.\"\n",
              "              style=\"display:none;\">\n",
              "        \n",
              "  <svg xmlns=\"http://www.w3.org/2000/svg\" height=\"24px\"viewBox=\"0 0 24 24\"\n",
              "       width=\"24px\">\n",
              "    <path d=\"M0 0h24v24H0V0z\" fill=\"none\"/>\n",
              "    <path d=\"M18.56 5.44l.94 2.06.94-2.06 2.06-.94-2.06-.94-.94-2.06-.94 2.06-2.06.94zm-11 1L8.5 8.5l.94-2.06 2.06-.94-2.06-.94L8.5 2.5l-.94 2.06-2.06.94zm10 10l.94 2.06.94-2.06 2.06-.94-2.06-.94-.94-2.06-.94 2.06-2.06.94z\"/><path d=\"M17.41 7.96l-1.37-1.37c-.4-.4-.92-.59-1.43-.59-.52 0-1.04.2-1.43.59L10.3 9.45l-7.72 7.72c-.78.78-.78 2.05 0 2.83L4 21.41c.39.39.9.59 1.41.59.51 0 1.02-.2 1.41-.59l7.78-7.78 2.81-2.81c.8-.78.8-2.07 0-2.86zM5.41 20L4 18.59l7.72-7.72 1.47 1.35L5.41 20z\"/>\n",
              "  </svg>\n",
              "      </button>\n",
              "      \n",
              "  <style>\n",
              "    .colab-df-container {\n",
              "      display:flex;\n",
              "      flex-wrap:wrap;\n",
              "      gap: 12px;\n",
              "    }\n",
              "\n",
              "    .colab-df-convert {\n",
              "      background-color: #E8F0FE;\n",
              "      border: none;\n",
              "      border-radius: 50%;\n",
              "      cursor: pointer;\n",
              "      display: none;\n",
              "      fill: #1967D2;\n",
              "      height: 32px;\n",
              "      padding: 0 0 0 0;\n",
              "      width: 32px;\n",
              "    }\n",
              "\n",
              "    .colab-df-convert:hover {\n",
              "      background-color: #E2EBFA;\n",
              "      box-shadow: 0px 1px 2px rgba(60, 64, 67, 0.3), 0px 1px 3px 1px rgba(60, 64, 67, 0.15);\n",
              "      fill: #174EA6;\n",
              "    }\n",
              "\n",
              "    [theme=dark] .colab-df-convert {\n",
              "      background-color: #3B4455;\n",
              "      fill: #D2E3FC;\n",
              "    }\n",
              "\n",
              "    [theme=dark] .colab-df-convert:hover {\n",
              "      background-color: #434B5C;\n",
              "      box-shadow: 0px 1px 3px 1px rgba(0, 0, 0, 0.15);\n",
              "      filter: drop-shadow(0px 1px 2px rgba(0, 0, 0, 0.3));\n",
              "      fill: #FFFFFF;\n",
              "    }\n",
              "  </style>\n",
              "\n",
              "      <script>\n",
              "        const buttonEl =\n",
              "          document.querySelector('#df-bdf06928-3d19-4073-8ecf-fd4d743e8680 button.colab-df-convert');\n",
              "        buttonEl.style.display =\n",
              "          google.colab.kernel.accessAllowed ? 'block' : 'none';\n",
              "\n",
              "        async function convertToInteractive(key) {\n",
              "          const element = document.querySelector('#df-bdf06928-3d19-4073-8ecf-fd4d743e8680');\n",
              "          const dataTable =\n",
              "            await google.colab.kernel.invokeFunction('convertToInteractive',\n",
              "                                                     [key], {});\n",
              "          if (!dataTable) return;\n",
              "\n",
              "          const docLinkHtml = 'Like what you see? Visit the ' +\n",
              "            '<a target=\"_blank\" href=https://colab.research.google.com/notebooks/data_table.ipynb>data table notebook</a>'\n",
              "            + ' to learn more about interactive tables.';\n",
              "          element.innerHTML = '';\n",
              "          dataTable['output_type'] = 'display_data';\n",
              "          await google.colab.output.renderOutput(dataTable, element);\n",
              "          const docLink = document.createElement('div');\n",
              "          docLink.innerHTML = docLinkHtml;\n",
              "          element.appendChild(docLink);\n",
              "        }\n",
              "      </script>\n",
              "    </div>\n",
              "  </div>\n",
              "  "
            ]
          },
          "metadata": {},
          "execution_count": 82
        }
      ]
    },
    {
      "cell_type": "code",
      "source": [
        "dep.head(100)"
      ],
      "metadata": {
        "colab": {
          "base_uri": "https://localhost:8080/",
          "height": 710
        },
        "id": "yG4d0Cz7bg0Y",
        "outputId": "8c6787fd-f41e-45d3-94a4-a27e50f2369e"
      },
      "execution_count": null,
      "outputs": [
        {
          "output_type": "execute_result",
          "data": {
            "text/plain": [
              "    Name  Age  Gender  Overall usage of smartphones (in hours)  \\\n",
              "0      1   20       0                                        7   \n",
              "1      2   21       0                                        8   \n",
              "2      3   20       1                                        1   \n",
              "3      4   21       0                                       10   \n",
              "4      5   21       0                                        5   \n",
              "..   ...  ...     ...                                      ...   \n",
              "95    96   30       0                                        3   \n",
              "96    97   20       0                                        8   \n",
              "97    98   21       1                                        3   \n",
              "98    99   21       0                                        4   \n",
              "99   100   27       0                                        3   \n",
              "\n",
              "    Time since you acquired your first phone?  \\\n",
              "0                                           3   \n",
              "1                                           1   \n",
              "2                                           1   \n",
              "3                                           1   \n",
              "4                                           1   \n",
              "..                                        ...   \n",
              "95                                          1   \n",
              "96                                          3   \n",
              "97                                          2   \n",
              "98                                          2   \n",
              "99                                          1   \n",
              "\n",
              "    Do you feel anxious when you  dont have your smartphones.  \\\n",
              "0                                                   0           \n",
              "1                                                   1           \n",
              "2                                                   1           \n",
              "3                                                   1           \n",
              "4                                                   1           \n",
              "..                                                ...           \n",
              "95                                                  1           \n",
              "96                                                  1           \n",
              "97                                                  1           \n",
              "98                                                  1           \n",
              "99                                                  1           \n",
              "\n",
              "    Arguments for using smartphone for long time  Can you live without phone?  \\\n",
              "0                                              2                            2   \n",
              "1                                              4                            0   \n",
              "2                                              4                            0   \n",
              "3                                              1                            0   \n",
              "4                                              1                            2   \n",
              "..                                           ...                          ...   \n",
              "95                                             1                            2   \n",
              "96                                             2                            2   \n",
              "97                                             2                            2   \n",
              "98                                             2                            2   \n",
              "99                                             2                            2   \n",
              "\n",
              "    Are you addicted to smartphone?  \\\n",
              "0                                 0   \n",
              "1                                 0   \n",
              "2                                 1   \n",
              "3                                 1   \n",
              "4                                 1   \n",
              "..                              ...   \n",
              "95                                1   \n",
              "96                                0   \n",
              "97                                1   \n",
              "98                                1   \n",
              "99                                1   \n",
              "\n",
              "    Do you use your smartphone while driving   \\\n",
              "0                                           0   \n",
              "1                                           0   \n",
              "2                                           1   \n",
              "3                                           1   \n",
              "4                                           1   \n",
              "..                                        ...   \n",
              "95                                          1   \n",
              "96                                          1   \n",
              "97                                          1   \n",
              "98                                          1   \n",
              "99                                          0   \n",
              "\n",
              "    Do you spend time on physical activities?  \\\n",
              "0                                           0   \n",
              "1                                           0   \n",
              "2                                           1   \n",
              "3                                           0   \n",
              "4                                           0   \n",
              "..                                        ...   \n",
              "95                                          1   \n",
              "96                                          0   \n",
              "97                                          0   \n",
              "98                                          0   \n",
              "99                                          0   \n",
              "\n",
              "    Do you plug your cell phone into the wall next to your bed when you go to sleep?  \\\n",
              "0                                                   0                                  \n",
              "1                                                   0                                  \n",
              "2                                                   0                                  \n",
              "3                                                   0                                  \n",
              "4                                                   0                                  \n",
              "..                                                ...                                  \n",
              "95                                                  1                                  \n",
              "96                                                  1                                  \n",
              "97                                                  1                                  \n",
              "98                                                  1                                  \n",
              "99                                                  1                                  \n",
              "\n",
              "    Do you use your cell phone while its charging?  \n",
              "0                                                1  \n",
              "1                                                0  \n",
              "2                                                0  \n",
              "3                                                0  \n",
              "4                                                0  \n",
              "..                                             ...  \n",
              "95                                               1  \n",
              "96                                               0  \n",
              "97                                               1  \n",
              "98                                               1  \n",
              "99                                               1  \n",
              "\n",
              "[100 rows x 13 columns]"
            ],
            "text/html": [
              "\n",
              "  <div id=\"df-a82f791b-0c83-4195-90ab-a7010c9b6db2\">\n",
              "    <div class=\"colab-df-container\">\n",
              "      <div>\n",
              "<style scoped>\n",
              "    .dataframe tbody tr th:only-of-type {\n",
              "        vertical-align: middle;\n",
              "    }\n",
              "\n",
              "    .dataframe tbody tr th {\n",
              "        vertical-align: top;\n",
              "    }\n",
              "\n",
              "    .dataframe thead th {\n",
              "        text-align: right;\n",
              "    }\n",
              "</style>\n",
              "<table border=\"1\" class=\"dataframe\">\n",
              "  <thead>\n",
              "    <tr style=\"text-align: right;\">\n",
              "      <th></th>\n",
              "      <th>Name</th>\n",
              "      <th>Age</th>\n",
              "      <th>Gender</th>\n",
              "      <th>Overall usage of smartphones (in hours)</th>\n",
              "      <th>Time since you acquired your first phone?</th>\n",
              "      <th>Do you feel anxious when you  dont have your smartphones.</th>\n",
              "      <th>Arguments for using smartphone for long time</th>\n",
              "      <th>Can you live without phone?</th>\n",
              "      <th>Are you addicted to smartphone?</th>\n",
              "      <th>Do you use your smartphone while driving</th>\n",
              "      <th>Do you spend time on physical activities?</th>\n",
              "      <th>Do you plug your cell phone into the wall next to your bed when you go to sleep?</th>\n",
              "      <th>Do you use your cell phone while its charging?</th>\n",
              "    </tr>\n",
              "  </thead>\n",
              "  <tbody>\n",
              "    <tr>\n",
              "      <th>0</th>\n",
              "      <td>1</td>\n",
              "      <td>20</td>\n",
              "      <td>0</td>\n",
              "      <td>7</td>\n",
              "      <td>3</td>\n",
              "      <td>0</td>\n",
              "      <td>2</td>\n",
              "      <td>2</td>\n",
              "      <td>0</td>\n",
              "      <td>0</td>\n",
              "      <td>0</td>\n",
              "      <td>0</td>\n",
              "      <td>1</td>\n",
              "    </tr>\n",
              "    <tr>\n",
              "      <th>1</th>\n",
              "      <td>2</td>\n",
              "      <td>21</td>\n",
              "      <td>0</td>\n",
              "      <td>8</td>\n",
              "      <td>1</td>\n",
              "      <td>1</td>\n",
              "      <td>4</td>\n",
              "      <td>0</td>\n",
              "      <td>0</td>\n",
              "      <td>0</td>\n",
              "      <td>0</td>\n",
              "      <td>0</td>\n",
              "      <td>0</td>\n",
              "    </tr>\n",
              "    <tr>\n",
              "      <th>2</th>\n",
              "      <td>3</td>\n",
              "      <td>20</td>\n",
              "      <td>1</td>\n",
              "      <td>1</td>\n",
              "      <td>1</td>\n",
              "      <td>1</td>\n",
              "      <td>4</td>\n",
              "      <td>0</td>\n",
              "      <td>1</td>\n",
              "      <td>1</td>\n",
              "      <td>1</td>\n",
              "      <td>0</td>\n",
              "      <td>0</td>\n",
              "    </tr>\n",
              "    <tr>\n",
              "      <th>3</th>\n",
              "      <td>4</td>\n",
              "      <td>21</td>\n",
              "      <td>0</td>\n",
              "      <td>10</td>\n",
              "      <td>1</td>\n",
              "      <td>1</td>\n",
              "      <td>1</td>\n",
              "      <td>0</td>\n",
              "      <td>1</td>\n",
              "      <td>1</td>\n",
              "      <td>0</td>\n",
              "      <td>0</td>\n",
              "      <td>0</td>\n",
              "    </tr>\n",
              "    <tr>\n",
              "      <th>4</th>\n",
              "      <td>5</td>\n",
              "      <td>21</td>\n",
              "      <td>0</td>\n",
              "      <td>5</td>\n",
              "      <td>1</td>\n",
              "      <td>1</td>\n",
              "      <td>1</td>\n",
              "      <td>2</td>\n",
              "      <td>1</td>\n",
              "      <td>1</td>\n",
              "      <td>0</td>\n",
              "      <td>0</td>\n",
              "      <td>0</td>\n",
              "    </tr>\n",
              "    <tr>\n",
              "      <th>...</th>\n",
              "      <td>...</td>\n",
              "      <td>...</td>\n",
              "      <td>...</td>\n",
              "      <td>...</td>\n",
              "      <td>...</td>\n",
              "      <td>...</td>\n",
              "      <td>...</td>\n",
              "      <td>...</td>\n",
              "      <td>...</td>\n",
              "      <td>...</td>\n",
              "      <td>...</td>\n",
              "      <td>...</td>\n",
              "      <td>...</td>\n",
              "    </tr>\n",
              "    <tr>\n",
              "      <th>95</th>\n",
              "      <td>96</td>\n",
              "      <td>30</td>\n",
              "      <td>0</td>\n",
              "      <td>3</td>\n",
              "      <td>1</td>\n",
              "      <td>1</td>\n",
              "      <td>1</td>\n",
              "      <td>2</td>\n",
              "      <td>1</td>\n",
              "      <td>1</td>\n",
              "      <td>1</td>\n",
              "      <td>1</td>\n",
              "      <td>1</td>\n",
              "    </tr>\n",
              "    <tr>\n",
              "      <th>96</th>\n",
              "      <td>97</td>\n",
              "      <td>20</td>\n",
              "      <td>0</td>\n",
              "      <td>8</td>\n",
              "      <td>3</td>\n",
              "      <td>1</td>\n",
              "      <td>2</td>\n",
              "      <td>2</td>\n",
              "      <td>0</td>\n",
              "      <td>1</td>\n",
              "      <td>0</td>\n",
              "      <td>1</td>\n",
              "      <td>0</td>\n",
              "    </tr>\n",
              "    <tr>\n",
              "      <th>97</th>\n",
              "      <td>98</td>\n",
              "      <td>21</td>\n",
              "      <td>1</td>\n",
              "      <td>3</td>\n",
              "      <td>2</td>\n",
              "      <td>1</td>\n",
              "      <td>2</td>\n",
              "      <td>2</td>\n",
              "      <td>1</td>\n",
              "      <td>1</td>\n",
              "      <td>0</td>\n",
              "      <td>1</td>\n",
              "      <td>1</td>\n",
              "    </tr>\n",
              "    <tr>\n",
              "      <th>98</th>\n",
              "      <td>99</td>\n",
              "      <td>21</td>\n",
              "      <td>0</td>\n",
              "      <td>4</td>\n",
              "      <td>2</td>\n",
              "      <td>1</td>\n",
              "      <td>2</td>\n",
              "      <td>2</td>\n",
              "      <td>1</td>\n",
              "      <td>1</td>\n",
              "      <td>0</td>\n",
              "      <td>1</td>\n",
              "      <td>1</td>\n",
              "    </tr>\n",
              "    <tr>\n",
              "      <th>99</th>\n",
              "      <td>100</td>\n",
              "      <td>27</td>\n",
              "      <td>0</td>\n",
              "      <td>3</td>\n",
              "      <td>1</td>\n",
              "      <td>1</td>\n",
              "      <td>2</td>\n",
              "      <td>2</td>\n",
              "      <td>1</td>\n",
              "      <td>0</td>\n",
              "      <td>0</td>\n",
              "      <td>1</td>\n",
              "      <td>1</td>\n",
              "    </tr>\n",
              "  </tbody>\n",
              "</table>\n",
              "<p>100 rows × 13 columns</p>\n",
              "</div>\n",
              "      <button class=\"colab-df-convert\" onclick=\"convertToInteractive('df-a82f791b-0c83-4195-90ab-a7010c9b6db2')\"\n",
              "              title=\"Convert this dataframe to an interactive table.\"\n",
              "              style=\"display:none;\">\n",
              "        \n",
              "  <svg xmlns=\"http://www.w3.org/2000/svg\" height=\"24px\"viewBox=\"0 0 24 24\"\n",
              "       width=\"24px\">\n",
              "    <path d=\"M0 0h24v24H0V0z\" fill=\"none\"/>\n",
              "    <path d=\"M18.56 5.44l.94 2.06.94-2.06 2.06-.94-2.06-.94-.94-2.06-.94 2.06-2.06.94zm-11 1L8.5 8.5l.94-2.06 2.06-.94-2.06-.94L8.5 2.5l-.94 2.06-2.06.94zm10 10l.94 2.06.94-2.06 2.06-.94-2.06-.94-.94-2.06-.94 2.06-2.06.94z\"/><path d=\"M17.41 7.96l-1.37-1.37c-.4-.4-.92-.59-1.43-.59-.52 0-1.04.2-1.43.59L10.3 9.45l-7.72 7.72c-.78.78-.78 2.05 0 2.83L4 21.41c.39.39.9.59 1.41.59.51 0 1.02-.2 1.41-.59l7.78-7.78 2.81-2.81c.8-.78.8-2.07 0-2.86zM5.41 20L4 18.59l7.72-7.72 1.47 1.35L5.41 20z\"/>\n",
              "  </svg>\n",
              "      </button>\n",
              "      \n",
              "  <style>\n",
              "    .colab-df-container {\n",
              "      display:flex;\n",
              "      flex-wrap:wrap;\n",
              "      gap: 12px;\n",
              "    }\n",
              "\n",
              "    .colab-df-convert {\n",
              "      background-color: #E8F0FE;\n",
              "      border: none;\n",
              "      border-radius: 50%;\n",
              "      cursor: pointer;\n",
              "      display: none;\n",
              "      fill: #1967D2;\n",
              "      height: 32px;\n",
              "      padding: 0 0 0 0;\n",
              "      width: 32px;\n",
              "    }\n",
              "\n",
              "    .colab-df-convert:hover {\n",
              "      background-color: #E2EBFA;\n",
              "      box-shadow: 0px 1px 2px rgba(60, 64, 67, 0.3), 0px 1px 3px 1px rgba(60, 64, 67, 0.15);\n",
              "      fill: #174EA6;\n",
              "    }\n",
              "\n",
              "    [theme=dark] .colab-df-convert {\n",
              "      background-color: #3B4455;\n",
              "      fill: #D2E3FC;\n",
              "    }\n",
              "\n",
              "    [theme=dark] .colab-df-convert:hover {\n",
              "      background-color: #434B5C;\n",
              "      box-shadow: 0px 1px 3px 1px rgba(0, 0, 0, 0.15);\n",
              "      filter: drop-shadow(0px 1px 2px rgba(0, 0, 0, 0.3));\n",
              "      fill: #FFFFFF;\n",
              "    }\n",
              "  </style>\n",
              "\n",
              "      <script>\n",
              "        const buttonEl =\n",
              "          document.querySelector('#df-a82f791b-0c83-4195-90ab-a7010c9b6db2 button.colab-df-convert');\n",
              "        buttonEl.style.display =\n",
              "          google.colab.kernel.accessAllowed ? 'block' : 'none';\n",
              "\n",
              "        async function convertToInteractive(key) {\n",
              "          const element = document.querySelector('#df-a82f791b-0c83-4195-90ab-a7010c9b6db2');\n",
              "          const dataTable =\n",
              "            await google.colab.kernel.invokeFunction('convertToInteractive',\n",
              "                                                     [key], {});\n",
              "          if (!dataTable) return;\n",
              "\n",
              "          const docLinkHtml = 'Like what you see? Visit the ' +\n",
              "            '<a target=\"_blank\" href=https://colab.research.google.com/notebooks/data_table.ipynb>data table notebook</a>'\n",
              "            + ' to learn more about interactive tables.';\n",
              "          element.innerHTML = '';\n",
              "          dataTable['output_type'] = 'display_data';\n",
              "          await google.colab.output.renderOutput(dataTable, element);\n",
              "          const docLink = document.createElement('div');\n",
              "          docLink.innerHTML = docLinkHtml;\n",
              "          element.appendChild(docLink);\n",
              "        }\n",
              "      </script>\n",
              "    </div>\n",
              "  </div>\n",
              "  "
            ]
          },
          "metadata": {},
          "execution_count": 83
        }
      ]
    },
    {
      "cell_type": "code",
      "source": [
        "dep.isnull().sum()"
      ],
      "metadata": {
        "colab": {
          "base_uri": "https://localhost:8080/"
        },
        "id": "mhf4UlwWT-W_",
        "outputId": "411f04d5-37e9-4a26-813d-560c4e673b02"
      },
      "execution_count": null,
      "outputs": [
        {
          "output_type": "execute_result",
          "data": {
            "text/plain": [
              "Name                                                                                0\n",
              "Age                                                                                 0\n",
              "Gender                                                                              0\n",
              "Overall usage of smartphones (in hours)                                             0\n",
              "Time since you acquired your first phone?                                           0\n",
              "Do you feel anxious when you  dont have your smartphones.                           0\n",
              "Arguments for using smartphone for long time                                        0\n",
              "Can you live without phone?                                                         0\n",
              "Are you addicted to smartphone?                                                     0\n",
              "Do you use your smartphone while driving                                            0\n",
              "Do you spend time on physical activities?                                           0\n",
              "Do you plug your cell phone into the wall next to your bed when you go to sleep?    0\n",
              "Do you use your cell phone while its charging?                                      0\n",
              "dtype: int64"
            ]
          },
          "metadata": {},
          "execution_count": 84
        }
      ]
    },
    {
      "cell_type": "code",
      "source": [
        "dep.isnull().sum()"
      ],
      "metadata": {
        "colab": {
          "base_uri": "https://localhost:8080/"
        },
        "id": "3Xe0A7GyVV3W",
        "outputId": "44cedcaa-cd53-4525-8ccd-71b6020f2e46"
      },
      "execution_count": null,
      "outputs": [
        {
          "output_type": "execute_result",
          "data": {
            "text/plain": [
              "Name                                                                                0\n",
              "Age                                                                                 0\n",
              "Gender                                                                              0\n",
              "Overall usage of smartphones (in hours)                                             0\n",
              "Time since you acquired your first phone?                                           0\n",
              "Do you feel anxious when you  dont have your smartphones.                           0\n",
              "Arguments for using smartphone for long time                                        0\n",
              "Can you live without phone?                                                         0\n",
              "Are you addicted to smartphone?                                                     0\n",
              "Do you use your smartphone while driving                                            0\n",
              "Do you spend time on physical activities?                                           0\n",
              "Do you plug your cell phone into the wall next to your bed when you go to sleep?    0\n",
              "Do you use your cell phone while its charging?                                      0\n",
              "dtype: int64"
            ]
          },
          "metadata": {},
          "execution_count": 85
        }
      ]
    },
    {
      "cell_type": "code",
      "source": [
        "import pandas as pd\n",
        "from sklearn.preprocessing import LabelEncoder\n",
        "from sklearn.neighbors import KNeighborsClassifier\n",
        "from sklearn.metrics import accuracy_score\n",
        "import plotly.express as px"
      ],
      "metadata": {
        "id": "7FWP0NSkQgL8"
      },
      "execution_count": null,
      "outputs": []
    },
    {
      "cell_type": "code",
      "source": [
        "X = dep.iloc[:, :-1].values\n",
        "y = dep.iloc[:, -1].values"
      ],
      "metadata": {
        "id": "XYqm_DBuSiUI"
      },
      "execution_count": null,
      "outputs": []
    },
    {
      "cell_type": "code",
      "source": [
        "from sklearn.model_selection import train_test_split\n",
        "X_train, X_test, y_train, y_test = train_test_split(X, y, test_size = 0.05, random_state = 0)"
      ],
      "metadata": {
        "id": "gn4F9-e8z5NM"
      },
      "execution_count": null,
      "outputs": []
    },
    {
      "cell_type": "code",
      "source": [
        "X_train"
      ],
      "metadata": {
        "colab": {
          "base_uri": "https://localhost:8080/"
        },
        "id": "jLFR0Qnx2DdQ",
        "outputId": "16b8b54f-086b-40c9-f239-4b35a71950e1"
      },
      "execution_count": null,
      "outputs": [
        {
          "output_type": "execute_result",
          "data": {
            "text/plain": [
              "array([[114,  41,   1, ...,   0,   0,   0],\n",
              "       [296,  25,   0, ...,   1,   0,   1],\n",
              "       [392,  23,   1, ...,   1,   0,   1],\n",
              "       ...,\n",
              "       [118,  38,   1, ...,   1,   0,   1],\n",
              "       [ 48,  30,   1, ...,   1,   0,   1],\n",
              "       [173,  20,   1, ...,   1,   1,   1]])"
            ]
          },
          "metadata": {},
          "execution_count": 89
        }
      ]
    },
    {
      "cell_type": "code",
      "source": [
        "y_train"
      ],
      "metadata": {
        "colab": {
          "base_uri": "https://localhost:8080/"
        },
        "id": "3KEylBxW2J74",
        "outputId": "835aca72-900c-4e9c-b44f-7b84640bcd36"
      },
      "execution_count": null,
      "outputs": [
        {
          "output_type": "execute_result",
          "data": {
            "text/plain": [
              "array([0, 1, 1, 1, 1, 0, 1, 0, 1, 0, 1, 0, 1, 1, 1, 1, 1, 1, 1, 0, 1, 1,\n",
              "       1, 0, 1, 0, 1, 0, 0, 1, 0, 1, 0, 1, 0, 0, 1, 0, 1, 1, 0, 1, 1, 0,\n",
              "       1, 1, 1, 1, 1, 0, 1, 0, 0, 1, 1, 1, 1, 1, 1, 1, 1, 0, 1, 1, 1, 0,\n",
              "       1, 1, 1, 0, 0, 1, 1, 1, 0, 1, 1, 1, 1, 1, 1, 0, 1, 0, 1, 0, 1, 0,\n",
              "       1, 1, 0, 1, 0, 1, 0, 0, 1, 1, 0, 0, 0, 1, 1, 1, 0, 1, 1, 1, 0, 1,\n",
              "       1, 1, 1, 0, 1, 1, 0, 1, 1, 0, 1, 0, 1, 1, 1, 1, 1, 1, 1, 1, 0, 1,\n",
              "       0, 1, 0, 0, 1, 1, 0, 1, 1, 1, 0, 1, 1, 0, 1, 1, 1, 0, 1, 1, 1, 0,\n",
              "       0, 1, 0, 1, 1, 0, 0, 1, 0, 1, 1, 1, 0, 1, 0, 1, 1, 1, 1, 0, 1, 1,\n",
              "       0, 1, 1, 1, 1, 1, 1, 1, 0, 1, 1, 0, 1, 0, 1, 0, 1, 1, 1, 1, 1, 0,\n",
              "       0, 0, 0, 1, 1, 0, 1, 0, 1, 1, 1, 0, 1, 1, 1, 0, 1, 0, 1, 1, 1, 1,\n",
              "       1, 0, 1, 1, 1, 1, 1, 1, 1, 1, 1, 0, 0, 1, 1, 1, 0, 1, 1, 0, 1, 1,\n",
              "       0, 0, 0, 1, 0, 1, 1, 1, 0, 1, 1, 1, 0, 1, 0, 0, 1, 1, 1, 1, 0, 1,\n",
              "       1, 0, 0, 0, 1, 1, 1, 1, 1, 1, 1, 0, 1, 0, 1, 1, 0, 1, 0, 1, 0, 0,\n",
              "       1, 1, 1, 1, 0, 0, 1, 0, 1, 1, 1, 0, 0, 1, 1, 1, 0, 1, 1, 1, 1, 0,\n",
              "       1, 1, 1, 0, 1, 1, 1, 1, 1, 0, 1, 1, 1, 1, 1, 0, 1, 1, 1, 0, 1, 1,\n",
              "       0, 1, 1, 0, 1, 1, 1, 0, 1, 1, 1, 1, 1, 1, 0, 0, 0, 0, 0, 1, 1, 1,\n",
              "       1, 1, 1, 1, 0, 1, 0, 1, 1, 0, 0, 0, 1, 1, 1, 1, 0, 1, 1, 0, 1, 0,\n",
              "       1, 1, 1, 0, 1, 1, 0, 0, 1, 1, 1, 0, 0, 0, 1, 0, 1, 1, 1, 1, 1, 1,\n",
              "       1, 0, 1, 1, 0, 0, 1, 0, 1, 1, 1, 1, 0, 1, 1, 0, 1, 1, 1, 1, 1, 1,\n",
              "       0, 1, 1, 1, 0, 0, 1, 1, 1, 1])"
            ]
          },
          "metadata": {},
          "execution_count": 90
        }
      ]
    },
    {
      "cell_type": "code",
      "source": [
        "X_test"
      ],
      "metadata": {
        "colab": {
          "base_uri": "https://localhost:8080/"
        },
        "id": "97jmgSpP7gKx",
        "outputId": "5ed07fd7-cbf1-402f-d0cd-9f0c7aacba1e"
      },
      "execution_count": null,
      "outputs": [
        {
          "output_type": "execute_result",
          "data": {
            "text/plain": [
              "array([[125,  12,   1,   1,   2,   1,   1,   0,   1,   1,   0,   1],\n",
              "       [ 55,  20,   1,  15,   3,   1,   2,   2,   1,   1,   1,   0],\n",
              "       [269,  45,   0,   4,   1,   1,   2,   0,   1,   1,   1,   1],\n",
              "       [294,  23,   0,   3,   1,   1,   2,   0,   1,   1,   0,   1],\n",
              "       [231,  43,   1,   3,   3,   1,   1,   0,   1,   1,   1,   1],\n",
              "       [135,  20,   1,   6,   2,   1,   1,   2,   1,   1,   1,   0],\n",
              "       [ 13,  25,   0,   4,   1,   1,   2,   0,   1,   1,   0,   1],\n",
              "       [362,  21,   1,   4,   2,   1,   3,   0,   0,   0,   0,   1],\n",
              "       [273,  67,   1,   2,   1,   1,   1,   0,   1,   1,   1,   1],\n",
              "       [ 77,  19,   1,   5,   3,   0,   3,   2,   1,   1,   1,   0],\n",
              "       [381,  21,   1,   5,   2,   0,   2,   2,   0,   1,   1,   1],\n",
              "       [158,  22,   1,   5,   1,   1,   2,   1,   0,   1,   0,   0],\n",
              "       [323,  22,   1,   7,   2,   1,   1,   2,   1,   1,   1,   1],\n",
              "       [165,  23,   1,  12,   3,   0,   1,   2,   1,   1,   1,   0],\n",
              "       [351,  21,   0,   3,   2,   1,   2,   0,   1,   1,   0,   1],\n",
              "       [ 22,  30,   0,   3,   1,   1,   1,   2,   1,   1,   0,   1],\n",
              "       [119,  21,   1,   2,   1,   1,   2,   2,   1,   1,   0,   0],\n",
              "       [  2,  21,   0,   8,   1,   1,   4,   0,   0,   0,   0,   0],\n",
              "       [ 11,  20,   1,   5,   1,   0,   2,   2,   1,   1,   0,   0],\n",
              "       [253,  12,   0,   9,   5,   0,   1,   1,   0,   1,   0,   1],\n",
              "       [367,  26,   0,   5,   2,   1,   2,   2,   1,   1,   0,   1],\n",
              "       [180,  55,   0,   5,   3,   1,   1,   0,   1,   1,   1,   1],\n",
              "       [421,  18,   1,   1,   3,   1,   2,   0,   1,   1,   0,   1]])"
            ]
          },
          "metadata": {},
          "execution_count": 91
        }
      ]
    },
    {
      "cell_type": "code",
      "source": [
        "y_test"
      ],
      "metadata": {
        "colab": {
          "base_uri": "https://localhost:8080/"
        },
        "id": "b9WP8Vw1Kgdk",
        "outputId": "361817dd-628d-4450-b597-644233dc0a70"
      },
      "execution_count": null,
      "outputs": [
        {
          "output_type": "execute_result",
          "data": {
            "text/plain": [
              "array([1, 0, 1, 1, 1, 1, 1, 1, 1, 0, 0, 0, 0, 1, 1, 0, 0, 0, 0, 1, 1, 1,\n",
              "       1])"
            ]
          },
          "metadata": {},
          "execution_count": 103
        }
      ]
    },
    {
      "cell_type": "code",
      "source": [
        "from sklearn.preprocessing import StandardScaler\n",
        "sc = StandardScaler() # https://scikit-learn.org/stable/modules/generated/sklearn.preprocessing.StandardScaler.html\n",
        "X_train = sc.fit_transform(X_train) # The fit method is calculating the mean and variance of each of the features present in our data. \n",
        "X_test = sc.transform(X_test)"
      ],
      "metadata": {
        "id": "jSGLB7WJ3qXs"
      },
      "execution_count": null,
      "outputs": []
    },
    {
      "cell_type": "code",
      "source": [
        "from sklearn.neighbors import KNeighborsClassifier"
      ],
      "metadata": {
        "id": "upjmlzT40BrX"
      },
      "execution_count": null,
      "outputs": []
    },
    {
      "cell_type": "code",
      "source": [
        "model = KNeighborsClassifier(n_neighbors = 5)\n",
        "model.fit(X,y)                                        \n",
        "y_pred = model.predict(X)\n",
        "y_pred\n",
        "from sklearn.metrics import accuracy_score\n",
        "scores = accuracy_score(y,y_pred)                     \n",
        "scores"
      ],
      "metadata": {
        "colab": {
          "base_uri": "https://localhost:8080/"
        },
        "id": "SpPjtaaYKpBG",
        "outputId": "f46b5b3e-34ee-46b6-c432-9c4eb11e68a0"
      },
      "execution_count": null,
      "outputs": [
        {
          "output_type": "execute_result",
          "data": {
            "text/plain": [
              "0.7760532150776053"
            ]
          },
          "metadata": {},
          "execution_count": 105
        }
      ]
    },
    {
      "cell_type": "code",
      "source": [
        "model = KNeighborsClassifier(n_neighbors = 5)\n",
        "model.fit(X,y)                                        \n",
        "y_pred = model.predict(X)\n",
        "y_pred\n",
        "from sklearn.metrics import accuracy_score\n",
        "scores = accuracy_score(y,y_pred)                     \n",
        "scores"
      ],
      "metadata": {
        "colab": {
          "base_uri": "https://localhost:8080/"
        },
        "id": "YP-7yQSXLS-E",
        "outputId": "5bc2e5b8-0336-46f6-9b1e-e4491ed1caca"
      },
      "execution_count": null,
      "outputs": [
        {
          "output_type": "execute_result",
          "data": {
            "text/plain": [
              "0.7760532150776053"
            ]
          },
          "metadata": {},
          "execution_count": 106
        }
      ]
    },
    {
      "cell_type": "code",
      "source": [
        "np.sqrt(-scores).mean()  "
      ],
      "metadata": {
        "colab": {
          "base_uri": "https://localhost:8080/"
        },
        "id": "5yFtw33ZLajp",
        "outputId": "c15740c7-1884-4a41-e8a2-6a5a3b44939e"
      },
      "execution_count": null,
      "outputs": [
        {
          "output_type": "stream",
          "name": "stderr",
          "text": [
            "<ipython-input-107-84afb4fdd8a6>:1: RuntimeWarning: invalid value encountered in sqrt\n",
            "  np.sqrt(-scores).mean()\n"
          ]
        },
        {
          "output_type": "execute_result",
          "data": {
            "text/plain": [
              "nan"
            ]
          },
          "metadata": {},
          "execution_count": 107
        }
      ]
    },
    {
      "cell_type": "code",
      "source": [
        "classifier = KNeighborsClassifier(n_neighbors = 5, metric = 'minkowski', p = 2)\n",
        "classifier.fit(X_train, y_train)"
      ],
      "metadata": {
        "colab": {
          "base_uri": "https://localhost:8080/",
          "height": 74
        },
        "id": "F_Vbakg4Le2R",
        "outputId": "80e9ae6d-f755-4472-ed44-4fcf7b1a29dc"
      },
      "execution_count": null,
      "outputs": [
        {
          "output_type": "execute_result",
          "data": {
            "text/plain": [
              "KNeighborsClassifier()"
            ],
            "text/html": [
              "<style>#sk-container-id-1 {color: black;background-color: white;}#sk-container-id-1 pre{padding: 0;}#sk-container-id-1 div.sk-toggleable {background-color: white;}#sk-container-id-1 label.sk-toggleable__label {cursor: pointer;display: block;width: 100%;margin-bottom: 0;padding: 0.3em;box-sizing: border-box;text-align: center;}#sk-container-id-1 label.sk-toggleable__label-arrow:before {content: \"▸\";float: left;margin-right: 0.25em;color: #696969;}#sk-container-id-1 label.sk-toggleable__label-arrow:hover:before {color: black;}#sk-container-id-1 div.sk-estimator:hover label.sk-toggleable__label-arrow:before {color: black;}#sk-container-id-1 div.sk-toggleable__content {max-height: 0;max-width: 0;overflow: hidden;text-align: left;background-color: #f0f8ff;}#sk-container-id-1 div.sk-toggleable__content pre {margin: 0.2em;color: black;border-radius: 0.25em;background-color: #f0f8ff;}#sk-container-id-1 input.sk-toggleable__control:checked~div.sk-toggleable__content {max-height: 200px;max-width: 100%;overflow: auto;}#sk-container-id-1 input.sk-toggleable__control:checked~label.sk-toggleable__label-arrow:before {content: \"▾\";}#sk-container-id-1 div.sk-estimator input.sk-toggleable__control:checked~label.sk-toggleable__label {background-color: #d4ebff;}#sk-container-id-1 div.sk-label input.sk-toggleable__control:checked~label.sk-toggleable__label {background-color: #d4ebff;}#sk-container-id-1 input.sk-hidden--visually {border: 0;clip: rect(1px 1px 1px 1px);clip: rect(1px, 1px, 1px, 1px);height: 1px;margin: -1px;overflow: hidden;padding: 0;position: absolute;width: 1px;}#sk-container-id-1 div.sk-estimator {font-family: monospace;background-color: #f0f8ff;border: 1px dotted black;border-radius: 0.25em;box-sizing: border-box;margin-bottom: 0.5em;}#sk-container-id-1 div.sk-estimator:hover {background-color: #d4ebff;}#sk-container-id-1 div.sk-parallel-item::after {content: \"\";width: 100%;border-bottom: 1px solid gray;flex-grow: 1;}#sk-container-id-1 div.sk-label:hover label.sk-toggleable__label {background-color: #d4ebff;}#sk-container-id-1 div.sk-serial::before {content: \"\";position: absolute;border-left: 1px solid gray;box-sizing: border-box;top: 0;bottom: 0;left: 50%;z-index: 0;}#sk-container-id-1 div.sk-serial {display: flex;flex-direction: column;align-items: center;background-color: white;padding-right: 0.2em;padding-left: 0.2em;position: relative;}#sk-container-id-1 div.sk-item {position: relative;z-index: 1;}#sk-container-id-1 div.sk-parallel {display: flex;align-items: stretch;justify-content: center;background-color: white;position: relative;}#sk-container-id-1 div.sk-item::before, #sk-container-id-1 div.sk-parallel-item::before {content: \"\";position: absolute;border-left: 1px solid gray;box-sizing: border-box;top: 0;bottom: 0;left: 50%;z-index: -1;}#sk-container-id-1 div.sk-parallel-item {display: flex;flex-direction: column;z-index: 1;position: relative;background-color: white;}#sk-container-id-1 div.sk-parallel-item:first-child::after {align-self: flex-end;width: 50%;}#sk-container-id-1 div.sk-parallel-item:last-child::after {align-self: flex-start;width: 50%;}#sk-container-id-1 div.sk-parallel-item:only-child::after {width: 0;}#sk-container-id-1 div.sk-dashed-wrapped {border: 1px dashed gray;margin: 0 0.4em 0.5em 0.4em;box-sizing: border-box;padding-bottom: 0.4em;background-color: white;}#sk-container-id-1 div.sk-label label {font-family: monospace;font-weight: bold;display: inline-block;line-height: 1.2em;}#sk-container-id-1 div.sk-label-container {text-align: center;}#sk-container-id-1 div.sk-container {/* jupyter's `normalize.less` sets `[hidden] { display: none; }` but bootstrap.min.css set `[hidden] { display: none !important; }` so we also need the `!important` here to be able to override the default hidden behavior on the sphinx rendered scikit-learn.org. See: https://github.com/scikit-learn/scikit-learn/issues/21755 */display: inline-block !important;position: relative;}#sk-container-id-1 div.sk-text-repr-fallback {display: none;}</style><div id=\"sk-container-id-1\" class=\"sk-top-container\"><div class=\"sk-text-repr-fallback\"><pre>KNeighborsClassifier()</pre><b>In a Jupyter environment, please rerun this cell to show the HTML representation or trust the notebook. <br />On GitHub, the HTML representation is unable to render, please try loading this page with nbviewer.org.</b></div><div class=\"sk-container\" hidden><div class=\"sk-item\"><div class=\"sk-estimator sk-toggleable\"><input class=\"sk-toggleable__control sk-hidden--visually\" id=\"sk-estimator-id-1\" type=\"checkbox\" checked><label for=\"sk-estimator-id-1\" class=\"sk-toggleable__label sk-toggleable__label-arrow\">KNeighborsClassifier</label><div class=\"sk-toggleable__content\"><pre>KNeighborsClassifier()</pre></div></div></div></div></div>"
            ]
          },
          "metadata": {},
          "execution_count": 109
        }
      ]
    },
    {
      "cell_type": "code",
      "source": [
        "y_pred = classifier.predict(X_test)\n",
        "print(np.concatenate((y_pred.reshape(len(y_pred),1), y_test.reshape(len(y_test),1)),1))"
      ],
      "metadata": {
        "colab": {
          "base_uri": "https://localhost:8080/"
        },
        "id": "gAx5setLLnTx",
        "outputId": "4de1d2e9-6be6-43c0-d1c8-08c0f70cc206"
      },
      "execution_count": null,
      "outputs": [
        {
          "output_type": "stream",
          "name": "stdout",
          "text": [
            "[[1 1]\n",
            " [1 0]\n",
            " [1 1]\n",
            " [1 1]\n",
            " [1 1]\n",
            " [1 1]\n",
            " [1 1]\n",
            " [1 1]\n",
            " [1 1]\n",
            " [0 0]\n",
            " [1 0]\n",
            " [1 0]\n",
            " [1 0]\n",
            " [0 1]\n",
            " [1 1]\n",
            " [1 0]\n",
            " [1 0]\n",
            " [0 0]\n",
            " [0 0]\n",
            " [0 1]\n",
            " [1 1]\n",
            " [1 1]\n",
            " [1 1]]\n"
          ]
        }
      ]
    },
    {
      "cell_type": "code",
      "source": [
        "from sklearn.metrics import classification_report\n",
        "print(classification_report(y_test, y_pred))"
      ],
      "metadata": {
        "colab": {
          "base_uri": "https://localhost:8080/"
        },
        "id": "hZ0KKq98LtHK",
        "outputId": "d5664a07-f6d2-4076-c0c2-8f5897976ad6"
      },
      "execution_count": null,
      "outputs": [
        {
          "output_type": "stream",
          "name": "stdout",
          "text": [
            "              precision    recall  f1-score   support\n",
            "\n",
            "           0       0.60      0.33      0.43         9\n",
            "           1       0.67      0.86      0.75        14\n",
            "\n",
            "    accuracy                           0.65        23\n",
            "   macro avg       0.63      0.60      0.59        23\n",
            "weighted avg       0.64      0.65      0.62        23\n",
            "\n"
          ]
        }
      ]
    },
    {
      "cell_type": "code",
      "source": [
        "from sklearn.metrics import confusion_matrix, accuracy_score\n",
        "cm = confusion_matrix(y_test, y_pred)\n",
        "print(cm)\n",
        "accuracy_score(y_test, y_pred)"
      ],
      "metadata": {
        "colab": {
          "base_uri": "https://localhost:8080/"
        },
        "id": "XDVSNmBHLw17",
        "outputId": "fec0be5d-3c0f-4736-d3de-b36db355e1a8"
      },
      "execution_count": null,
      "outputs": [
        {
          "output_type": "stream",
          "name": "stdout",
          "text": [
            "[[ 3  6]\n",
            " [ 2 12]]\n"
          ]
        },
        {
          "output_type": "execute_result",
          "data": {
            "text/plain": [
              "0.6521739130434783"
            ]
          },
          "metadata": {},
          "execution_count": 112
        }
      ]
    },
    {
      "cell_type": "code",
      "source": [
        "def plot_confusion_matrix(cm, target_names, title='Confusion matrix', cmap=plt.cm.summer):\n",
        "    plt.clf\n",
        "    plt.imshow(cm, interpolation='nearest')\n",
        "    plt.title(title)\n",
        "    plt.colorbar()\n",
        "    tick_marks = np.arange(len(target_names))\n",
        "    plt.xticks(tick_marks, target_names, rotation=45)\n",
        "    plt.yticks(tick_marks, target_names)\n",
        "    plt.tight_layout()\n",
        " \n",
        "    width, height = cm.shape\n",
        " \n",
        "    for x in range(width):\n",
        "        for y in range(height):\n",
        "            plt.annotate(str(cm[x][y]), xy=(y, x), \n",
        "                        horizontalalignment='center',\n",
        "                        verticalalignment='center',color='white',fontsize=22)\n",
        "    plt.ylabel('True label')\n",
        "    plt.xlabel('Predicted label')"
      ],
      "metadata": {
        "id": "xpr3IJdJL09L"
      },
      "execution_count": null,
      "outputs": []
    },
    {
      "cell_type": "code",
      "source": [
        "pred_accuracy_list = []\n",
        "k_list = [5,7,9,11,13,15]\n",
        "for k in k_list:\n",
        "    classifier = KNeighborsClassifier(n_neighbors =k)\n",
        "    classifier.fit(X_train, y_train)\n",
        "    pred = classifier.predict(X_test)\n",
        "    score = accuracy_score(y_test,pred)\n",
        "    pred_accuracy_list.append(accuracy_score(y_test,pred))\n",
        "plt.plot(k_list,pred_accuracy_list,marker=\"o\",markerfacecolor=\"red\",linestyle = \"dashed\")\n",
        "plt.title(\"Bivariate analysis on accuracy score and k value\")\n",
        "plt.xlabel(\"K values\")\n",
        "plt.ylabel(\"Accuracy score\")\n",
        "plt.show()"
      ],
      "metadata": {
        "colab": {
          "base_uri": "https://localhost:8080/",
          "height": 295
        },
        "id": "MKs7bx0BL4p1",
        "outputId": "623beee6-85f0-4f3c-f19d-6cf7ec4e2bfb"
      },
      "execution_count": null,
      "outputs": [
        {
          "output_type": "display_data",
          "data": {
            "text/plain": [
              "<Figure size 432x288 with 1 Axes>"
            ],
            "image/png": "[encoded data removed]"
          },
          "metadata": {
            "needs_background": "light"
          }
        }
      ]
    },
    {
      "cell_type": "code",
      "source": [
        "plot_confusion_matrix(cm, np.unique(y_pred))"
      ],
      "metadata": {
        "colab": {
          "base_uri": "https://localhost:8080/",
          "height": 311
        },
        "id": "EyOTpnDrL_Sn",
        "outputId": "b1b0069e-9a61-4d43-f979-bc6a6c91abf9"
      },
      "execution_count": null,
      "outputs": [
        {
          "output_type": "display_data",
          "data": {
            "text/plain": [
              "<Figure size 432x288 with 2 Axes>"
            ],
            "image/png": "[encoded data removed]"
          },
          "metadata": {
            "needs_background": "light"
          }
        }
      ]
    },
    {
      "cell_type": "code",
      "source": [
        "import pandas as pd \n",
        "import matplotlib.pyplot as plt \n",
        "import seaborn as sns \n",
        "from sklearn.model_selection import train_test_split \n",
        "from sklearn.linear_model import LinearRegression \n",
        "from sklearn import metrics"
      ],
      "metadata": {
        "id": "J8EGAQQUSF1w"
      },
      "execution_count": null,
      "outputs": []
    },
    {
      "cell_type": "code",
      "source": [
        "lin_reg_model = LinearRegression() \n",
        "lin_reg_model.fit(X_train,y_train)"
      ],
      "metadata": {
        "id": "JuIR11-gRpeV",
        "colab": {
          "base_uri": "https://localhost:8080/",
          "height": 74
        },
        "outputId": "596884bc-df81-4468-aab8-a0ef56e762c0"
      },
      "execution_count": null,
      "outputs": [
        {
          "output_type": "execute_result",
          "data": {
            "text/plain": [
              "LinearRegression()"
            ],
            "text/html": [
              "<style>#sk-container-id-2 {color: black;background-color: white;}#sk-container-id-2 pre{padding: 0;}#sk-container-id-2 div.sk-toggleable {background-color: white;}#sk-container-id-2 label.sk-toggleable__label {cursor: pointer;display: block;width: 100%;margin-bottom: 0;padding: 0.3em;box-sizing: border-box;text-align: center;}#sk-container-id-2 label.sk-toggleable__label-arrow:before {content: \"▸\";float: left;margin-right: 0.25em;color: #696969;}#sk-container-id-2 label.sk-toggleable__label-arrow:hover:before {color: black;}#sk-container-id-2 div.sk-estimator:hover label.sk-toggleable__label-arrow:before {color: black;}#sk-container-id-2 div.sk-toggleable__content {max-height: 0;max-width: 0;overflow: hidden;text-align: left;background-color: #f0f8ff;}#sk-container-id-2 div.sk-toggleable__content pre {margin: 0.2em;color: black;border-radius: 0.25em;background-color: #f0f8ff;}#sk-container-id-2 input.sk-toggleable__control:checked~div.sk-toggleable__content {max-height: 200px;max-width: 100%;overflow: auto;}#sk-container-id-2 input.sk-toggleable__control:checked~label.sk-toggleable__label-arrow:before {content: \"▾\";}#sk-container-id-2 div.sk-estimator input.sk-toggleable__control:checked~label.sk-toggleable__label {background-color: #d4ebff;}#sk-container-id-2 div.sk-label input.sk-toggleable__control:checked~label.sk-toggleable__label {background-color: #d4ebff;}#sk-container-id-2 input.sk-hidden--visually {border: 0;clip: rect(1px 1px 1px 1px);clip: rect(1px, 1px, 1px, 1px);height: 1px;margin: -1px;overflow: hidden;padding: 0;position: absolute;width: 1px;}#sk-container-id-2 div.sk-estimator {font-family: monospace;background-color: #f0f8ff;border: 1px dotted black;border-radius: 0.25em;box-sizing: border-box;margin-bottom: 0.5em;}#sk-container-id-2 div.sk-estimator:hover {background-color: #d4ebff;}#sk-container-id-2 div.sk-parallel-item::after {content: \"\";width: 100%;border-bottom: 1px solid gray;flex-grow: 1;}#sk-container-id-2 div.sk-label:hover label.sk-toggleable__label {background-color: #d4ebff;}#sk-container-id-2 div.sk-serial::before {content: \"\";position: absolute;border-left: 1px solid gray;box-sizing: border-box;top: 0;bottom: 0;left: 50%;z-index: 0;}#sk-container-id-2 div.sk-serial {display: flex;flex-direction: column;align-items: center;background-color: white;padding-right: 0.2em;padding-left: 0.2em;position: relative;}#sk-container-id-2 div.sk-item {position: relative;z-index: 1;}#sk-container-id-2 div.sk-parallel {display: flex;align-items: stretch;justify-content: center;background-color: white;position: relative;}#sk-container-id-2 div.sk-item::before, #sk-container-id-2 div.sk-parallel-item::before {content: \"\";position: absolute;border-left: 1px solid gray;box-sizing: border-box;top: 0;bottom: 0;left: 50%;z-index: -1;}#sk-container-id-2 div.sk-parallel-item {display: flex;flex-direction: column;z-index: 1;position: relative;background-color: white;}#sk-container-id-2 div.sk-parallel-item:first-child::after {align-self: flex-end;width: 50%;}#sk-container-id-2 div.sk-parallel-item:last-child::after {align-self: flex-start;width: 50%;}#sk-container-id-2 div.sk-parallel-item:only-child::after {width: 0;}#sk-container-id-2 div.sk-dashed-wrapped {border: 1px dashed gray;margin: 0 0.4em 0.5em 0.4em;box-sizing: border-box;padding-bottom: 0.4em;background-color: white;}#sk-container-id-2 div.sk-label label {font-family: monospace;font-weight: bold;display: inline-block;line-height: 1.2em;}#sk-container-id-2 div.sk-label-container {text-align: center;}#sk-container-id-2 div.sk-container {/* jupyter's `normalize.less` sets `[hidden] { display: none; }` but bootstrap.min.css set `[hidden] { display: none !important; }` so we also need the `!important` here to be able to override the default hidden behavior on the sphinx rendered scikit-learn.org. See: https://github.com/scikit-learn/scikit-learn/issues/21755 */display: inline-block !important;position: relative;}#sk-container-id-2 div.sk-text-repr-fallback {display: none;}</style><div id=\"sk-container-id-2\" class=\"sk-top-container\"><div class=\"sk-text-repr-fallback\"><pre>LinearRegression()</pre><b>In a Jupyter environment, please rerun this cell to show the HTML representation or trust the notebook. <br />On GitHub, the HTML representation is unable to render, please try loading this page with nbviewer.org.</b></div><div class=\"sk-container\" hidden><div class=\"sk-item\"><div class=\"sk-estimator sk-toggleable\"><input class=\"sk-toggleable__control sk-hidden--visually\" id=\"sk-estimator-id-2\" type=\"checkbox\" checked><label for=\"sk-estimator-id-2\" class=\"sk-toggleable__label sk-toggleable__label-arrow\">LinearRegression</label><div class=\"sk-toggleable__content\"><pre>LinearRegression()</pre></div></div></div></div></div>"
            ]
          },
          "metadata": {},
          "execution_count": 120
        }
      ]
    },
    {
      "cell_type": "code",
      "source": [
        "training_data_prediction = lin_reg_model.predict(X_train)"
      ],
      "metadata": {
        "id": "gJK1Ik9PSNP5"
      },
      "execution_count": null,
      "outputs": []
    },
    {
      "cell_type": "code",
      "source": [
        "train_error_score = metrics.r2_score(y_train, training_data_prediction) \n",
        "print(\"R squared Error - Training : \", train_error_score)"
      ],
      "metadata": {
        "colab": {
          "base_uri": "https://localhost:8080/"
        },
        "id": "QpUyw3U2STRy",
        "outputId": "e77b860e-98e4-4a30-8972-1b0d9392df9f"
      },
      "execution_count": null,
      "outputs": [
        {
          "output_type": "stream",
          "name": "stdout",
          "text": [
            "R squared Error - Training :  0.2459023907458714\n"
          ]
        }
      ]
    },
    {
      "cell_type": "code",
      "source": [
        "Y_pred = lin_reg_model.predict(X_test) "
      ],
      "metadata": {
        "id": "b66mNR_qSX-W"
      },
      "execution_count": null,
      "outputs": []
    },
    {
      "cell_type": "code",
      "source": [
        "test_error_score = metrics.r2_score(y_test, Y_pred) \n",
        "print(\"R squared Error - Test: \", test_error_score)"
      ],
      "metadata": {
        "colab": {
          "base_uri": "https://localhost:8080/"
        },
        "id": "VSpYVntlSbE4",
        "outputId": "ef71d98e-8a8d-405c-fd07-7103e6688011"
      },
      "execution_count": null,
      "outputs": [
        {
          "output_type": "stream",
          "name": "stdout",
          "text": [
            "R squared Error - Test:  0.22010397807529059\n"
          ]
        }
      ]
    },
    {
      "cell_type": "code",
      "source": [
        "sns.regplot(y_test, Y_pred, scatter_kws={\"color\": \"green\"}, line_kws={\"color\": \"blue\"}) "
      ],
      "metadata": {
        "colab": {
          "base_uri": "https://localhost:8080/",
          "height": 337
        },
        "id": "v4M4kbghSf8s",
        "outputId": "e6adca4c-0517-47e6-a4d3-c6c38ea7f2f0"
      },
      "execution_count": null,
      "outputs": [
        {
          "output_type": "stream",
          "name": "stderr",
          "text": [
            "/usr/local/lib/python3.8/dist-packages/seaborn/_decorators.py:36: FutureWarning: Pass the following variables as keyword args: x, y. From version 0.12, the only valid positional argument will be `data`, and passing other arguments without an explicit keyword will result in an error or misinterpretation.\n",
            "  warnings.warn(\n"
          ]
        },
        {
          "output_type": "execute_result",
          "data": {
            "text/plain": [
              "<AxesSubplot:>"
            ]
          },
          "metadata": {},
          "execution_count": 130
        },
        {
          "output_type": "display_data",
          "data": {
            "text/plain": [
              "<Figure size 432x288 with 1 Axes>"
            ],
            "image/png": "[encoded data removed]"
          },
          "metadata": {
            "needs_background": "light"
          }
        }
      ]
    }
  ]
}